{
 "cells": [
  {
   "cell_type": "code",
   "execution_count": 2,
   "metadata": {},
   "outputs": [
    {
     "name": "stderr",
     "output_type": "stream",
     "text": [
      "C:\\Users\\mila1\\Anaconda3\\lib\\site-packages\\gensim\\utils.py:1197: UserWarning: detected Windows; aliasing chunkize to chunkize_serial\n",
      "  warnings.warn(\"detected Windows; aliasing chunkize to chunkize_serial\")\n"
     ]
    }
   ],
   "source": [
    "import pickle\n",
    "from gensim.models.coherencemodel import CoherenceModel\n",
    "import pandas as pd\n",
    "import pyLDAvis.gensim\n",
    "import numpy as np\n",
    "import numpy as np; np.random.seed(0)\n",
    "import seaborn as sns\n",
    "import os\n",
    "\n",
    "# Global variables\n",
    "version_number = \"11\"\n",
    "senti = \"_all\"\n",
    "results_dir = \"results/\"\n",
    "grid_dir = 'grid/'\n",
    "topic_models_dir = 'topic_models/'\n",
    "\n"
   ]
  },
  {
   "cell_type": "code",
   "execution_count": 4,
   "metadata": {},
   "outputs": [
    {
     "name": "stdout",
     "output_type": "stream",
     "text": [
      "LdaModel(num_terms=46619, num_topics=10, decay=0.5, chunksize=2000)\n"
     ]
    }
   ],
   "source": [
    "topic_model = pickle.load(open('topic_models/topic_model_V' + version_number + senti, 'rb'))\n",
    "corpus = pickle.load(open('corpusses/corpus_V' + version_number + senti, 'rb'))\n",
    "id2word = pickle.load(open('dictionaries/dictionary_V' + version_number + senti, 'rb'))\n",
    "\n",
    "print(topic_model)\n",
    "# print(df['tokenized_tweets'])\n",
    "    \n",
    "# Load tokenized tweets for Coherence Score\n",
    "df = pickle.load(open(results_dir + 'set_results_V' + version_number, 'rb'))"
   ]
  },
  {
   "cell_type": "code",
   "execution_count": 1,
   "metadata": {},
   "outputs": [],
   "source": [
    "# Compute Perplexity\n",
    "# a measure of how good the model is. lower the better\n",
    "# base_perplexity = topic_model.log_perplexity(corpus)"
   ]
  },
  {
   "cell_type": "code",
   "execution_count": 3,
   "metadata": {},
   "outputs": [],
   "source": [
    "# print('\\nPerplexity: ', base_perplexity)"
   ]
  },
  {
   "cell_type": "code",
   "execution_count": 74,
   "metadata": {},
   "outputs": [
    {
     "name": "stderr",
     "output_type": "stream",
     "text": [
      "No handles with labels found to put in legend.\n"
     ]
    },
    {
     "data": {
      "text/html": [
       "<div>\n",
       "<style scoped>\n",
       "    .dataframe tbody tr th:only-of-type {\n",
       "        vertical-align: middle;\n",
       "    }\n",
       "\n",
       "    .dataframe tbody tr th {\n",
       "        vertical-align: top;\n",
       "    }\n",
       "\n",
       "    .dataframe thead th {\n",
       "        text-align: right;\n",
       "    }\n",
       "</style>\n",
       "<table border=\"1\" class=\"dataframe\">\n",
       "  <thead>\n",
       "    <tr style=\"text-align: right;\">\n",
       "      <th>time_window</th>\n",
       "      <th>7</th>\n",
       "      <th>14</th>\n",
       "      <th>21</th>\n",
       "      <th>28</th>\n",
       "    </tr>\n",
       "    <tr>\n",
       "      <th>num_topics</th>\n",
       "      <th></th>\n",
       "      <th></th>\n",
       "      <th></th>\n",
       "      <th></th>\n",
       "    </tr>\n",
       "  </thead>\n",
       "  <tbody>\n",
       "    <tr>\n",
       "      <th>2</th>\n",
       "      <td>0.321221</td>\n",
       "      <td>0.308344</td>\n",
       "      <td>0.300607</td>\n",
       "      <td>0.294638</td>\n",
       "    </tr>\n",
       "    <tr>\n",
       "      <th>4</th>\n",
       "      <td>0.348308</td>\n",
       "      <td>0.332562</td>\n",
       "      <td>0.322954</td>\n",
       "      <td>0.317223</td>\n",
       "    </tr>\n",
       "    <tr>\n",
       "      <th>6</th>\n",
       "      <td>0.35777</td>\n",
       "      <td>0.342112</td>\n",
       "      <td>0.331804</td>\n",
       "      <td>0.32635</td>\n",
       "    </tr>\n",
       "    <tr>\n",
       "      <th>8</th>\n",
       "      <td>0.362913</td>\n",
       "      <td>0.347798</td>\n",
       "      <td>0.338095</td>\n",
       "      <td>0.331808</td>\n",
       "    </tr>\n",
       "    <tr>\n",
       "      <th>10</th>\n",
       "      <td>0.369447</td>\n",
       "      <td>0.354748</td>\n",
       "      <td>0.3439</td>\n",
       "      <td>0.33797</td>\n",
       "    </tr>\n",
       "    <tr>\n",
       "      <th>12</th>\n",
       "      <td>0.368752</td>\n",
       "      <td>0.353527</td>\n",
       "      <td>0.345773</td>\n",
       "      <td>0.339248</td>\n",
       "    </tr>\n",
       "    <tr>\n",
       "      <th>14</th>\n",
       "      <td>0.376781</td>\n",
       "      <td>0.361946</td>\n",
       "      <td>0.352843</td>\n",
       "      <td>0.345981</td>\n",
       "    </tr>\n",
       "    <tr>\n",
       "      <th>16</th>\n",
       "      <td>0.380421</td>\n",
       "      <td>0.365633</td>\n",
       "      <td>0.356356</td>\n",
       "      <td>0.350205</td>\n",
       "    </tr>\n",
       "  </tbody>\n",
       "</table>\n",
       "</div>"
      ],
      "text/plain": [
       "time_window        7         14        21        28\n",
       "num_topics                                         \n",
       "2            0.321221  0.308344  0.300607  0.294638\n",
       "4            0.348308  0.332562  0.322954  0.317223\n",
       "6             0.35777  0.342112  0.331804   0.32635\n",
       "8            0.362913  0.347798  0.338095  0.331808\n",
       "10           0.369447  0.354748    0.3439   0.33797\n",
       "12           0.368752  0.353527  0.345773  0.339248\n",
       "14           0.376781  0.361946  0.352843  0.345981\n",
       "16           0.380421  0.365633  0.356356  0.350205"
      ]
     },
     "execution_count": 74,
     "metadata": {},
     "output_type": "execute_result"
    },
    {
     "data": {
      "image/png": "[encoded data removed]",
      "text/plain": [
       "<Figure size 432x288 with 2 Axes>"
      ]
     },
     "metadata": {},
     "output_type": "display_data"
    }
   ],
   "source": [
    "version_number = '25_all'\n",
    "\n",
    "grid = pickle.load(open(grid_dir + 'grid_V' + version_number, 'rb'))\n",
    "\n",
    "\n",
    "df_grid = pd.DataFrame(grid, columns =['time_window', 'num_topics', 'average_coherence'])\n",
    "df_grid = df_grid[1:]\n",
    "\n",
    "df_grid_25_all = df_grid.pivot(\"num_topics\", \"time_window\", \"average_coherence\")\n",
    "ax = sns.heatmap(df_grid_25_all.astype(float))\n",
    "#     vmax=0.47,         # Ensure same \n",
    "#     vmin=0.3)          # color scale\n",
    "ax.set_title('Average coherence scores of topic models \\nper number of topics and time window \\nfor all tweets')\n",
    "ax.set_ylabel('num_topics')\n",
    "ax.set_xlabel('time_window (days)')\n",
    "ax.legend(title=\"Average coherence\", bbox_to_anchor=(1.02, 1.1), loc='upper left', borderaxespad=0, frameon=False)\n",
    "ax.invert_yaxis()\n",
    "df_grid_25_all"
   ]
  },
  {
   "cell_type": "code",
   "execution_count": 9,
   "metadata": {},
   "outputs": [
    {
     "name": "stderr",
     "output_type": "stream",
     "text": [
      "No handles with labels found to put in legend.\n"
     ]
    },
    {
     "data": {
      "text/html": [
       "<div>\n",
       "<style scoped>\n",
       "    .dataframe tbody tr th:only-of-type {\n",
       "        vertical-align: middle;\n",
       "    }\n",
       "\n",
       "    .dataframe tbody tr th {\n",
       "        vertical-align: top;\n",
       "    }\n",
       "\n",
       "    .dataframe thead th {\n",
       "        text-align: right;\n",
       "    }\n",
       "</style>\n",
       "<table border=\"1\" class=\"dataframe\">\n",
       "  <thead>\n",
       "    <tr style=\"text-align: right;\">\n",
       "      <th>time_window</th>\n",
       "      <th>7</th>\n",
       "      <th>14</th>\n",
       "      <th>21</th>\n",
       "      <th>28</th>\n",
       "    </tr>\n",
       "    <tr>\n",
       "      <th>num_topics</th>\n",
       "      <th></th>\n",
       "      <th></th>\n",
       "      <th></th>\n",
       "      <th></th>\n",
       "    </tr>\n",
       "  </thead>\n",
       "  <tbody>\n",
       "    <tr>\n",
       "      <th>2</th>\n",
       "      <td>0.476089</td>\n",
       "      <td>0.462666</td>\n",
       "      <td>0.452842</td>\n",
       "      <td>0.442012</td>\n",
       "    </tr>\n",
       "    <tr>\n",
       "      <th>4</th>\n",
       "      <td>0.479163</td>\n",
       "      <td>0.467535</td>\n",
       "      <td>0.457867</td>\n",
       "      <td>0.449841</td>\n",
       "    </tr>\n",
       "    <tr>\n",
       "      <th>6</th>\n",
       "      <td>0.474379</td>\n",
       "      <td>0.469896</td>\n",
       "      <td>0.461906</td>\n",
       "      <td>0.456424</td>\n",
       "    </tr>\n",
       "    <tr>\n",
       "      <th>8</th>\n",
       "      <td>0.474774</td>\n",
       "      <td>0.467795</td>\n",
       "      <td>0.460706</td>\n",
       "      <td>0.454754</td>\n",
       "    </tr>\n",
       "    <tr>\n",
       "      <th>10</th>\n",
       "      <td>0.475184</td>\n",
       "      <td>0.466959</td>\n",
       "      <td>0.461618</td>\n",
       "      <td>0.456778</td>\n",
       "    </tr>\n",
       "    <tr>\n",
       "      <th>12</th>\n",
       "      <td>0.472397</td>\n",
       "      <td>0.464812</td>\n",
       "      <td>0.458336</td>\n",
       "      <td>0.45334</td>\n",
       "    </tr>\n",
       "    <tr>\n",
       "      <th>14</th>\n",
       "      <td>0.471833</td>\n",
       "      <td>0.461917</td>\n",
       "      <td>0.455321</td>\n",
       "      <td>0.450279</td>\n",
       "    </tr>\n",
       "    <tr>\n",
       "      <th>16</th>\n",
       "      <td>0.46842</td>\n",
       "      <td>0.456317</td>\n",
       "      <td>0.45095</td>\n",
       "      <td>0.447381</td>\n",
       "    </tr>\n",
       "  </tbody>\n",
       "</table>\n",
       "</div>"
      ],
      "text/plain": [
       "time_window        7         14        21        28\n",
       "num_topics                                         \n",
       "2            0.476089  0.462666  0.452842  0.442012\n",
       "4            0.479163  0.467535  0.457867  0.449841\n",
       "6            0.474379  0.469896  0.461906  0.456424\n",
       "8            0.474774  0.467795  0.460706  0.454754\n",
       "10           0.475184  0.466959  0.461618  0.456778\n",
       "12           0.472397  0.464812  0.458336   0.45334\n",
       "14           0.471833  0.461917  0.455321  0.450279\n",
       "16            0.46842  0.456317   0.45095  0.447381"
      ]
     },
     "execution_count": 9,
     "metadata": {},
     "output_type": "execute_result"
    },
    {
     "data": {
      "image/png": "[encoded data removed]",
      "text/plain": [
       "<Figure size 432x288 with 2 Axes>"
      ]
     },
     "metadata": {},
     "output_type": "display_data"
    }
   ],
   "source": [
    "version_number = '27_pos'\n",
    "\n",
    "grid = pickle.load(open(grid_dir + 'grid_V' + version_number, 'rb'))\n",
    "\n",
    "\n",
    "df_grid = pd.DataFrame(grid, columns =['time_window', 'num_topics', 'average_coherence'])\n",
    "df_grid = df_grid[1:]\n",
    "\n",
    "df_grid_26_pos = df_grid.pivot(\"num_topics\", \"time_window\", \"average_coherence\")\n",
    "ax = sns.heatmap(df_grid_26_pos.astype(float))\n",
    "#     vmax=0.47,         # Ensure same \n",
    "#     vmin=0.3)          # color scale\n",
    "ax.set_title('Average coherence scores of topic models \\nper number of topics and time window \\nfor positive tweets')\n",
    "ax.set_ylabel('num_topics')\n",
    "ax.set_xlabel('time_window (days)')\n",
    "ax.legend(title=\"Average coherence\", bbox_to_anchor=(1.02, 1.1), loc='upper left', borderaxespad=0, frameon=False)\n",
    "ax.invert_yaxis()\n",
    "df_grid_26_pos"
   ]
  },
  {
   "cell_type": "code",
   "execution_count": 10,
   "metadata": {},
   "outputs": [
    {
     "name": "stderr",
     "output_type": "stream",
     "text": [
      "No handles with labels found to put in legend.\n"
     ]
    },
    {
     "data": {
      "text/html": [
       "<div>\n",
       "<style scoped>\n",
       "    .dataframe tbody tr th:only-of-type {\n",
       "        vertical-align: middle;\n",
       "    }\n",
       "\n",
       "    .dataframe tbody tr th {\n",
       "        vertical-align: top;\n",
       "    }\n",
       "\n",
       "    .dataframe thead th {\n",
       "        text-align: right;\n",
       "    }\n",
       "</style>\n",
       "<table border=\"1\" class=\"dataframe\">\n",
       "  <thead>\n",
       "    <tr style=\"text-align: right;\">\n",
       "      <th>time_window</th>\n",
       "      <th>7</th>\n",
       "      <th>14</th>\n",
       "      <th>21</th>\n",
       "      <th>28</th>\n",
       "    </tr>\n",
       "    <tr>\n",
       "      <th>num_topics</th>\n",
       "      <th></th>\n",
       "      <th></th>\n",
       "      <th></th>\n",
       "      <th></th>\n",
       "    </tr>\n",
       "  </thead>\n",
       "  <tbody>\n",
       "    <tr>\n",
       "      <th>2</th>\n",
       "      <td>0.336722</td>\n",
       "      <td>0.317946</td>\n",
       "      <td>0.304851</td>\n",
       "      <td>0.29534</td>\n",
       "    </tr>\n",
       "    <tr>\n",
       "      <th>4</th>\n",
       "      <td>0.35368</td>\n",
       "      <td>0.336283</td>\n",
       "      <td>0.324901</td>\n",
       "      <td>0.316536</td>\n",
       "    </tr>\n",
       "    <tr>\n",
       "      <th>6</th>\n",
       "      <td>0.369016</td>\n",
       "      <td>0.348671</td>\n",
       "      <td>0.337348</td>\n",
       "      <td>0.329758</td>\n",
       "    </tr>\n",
       "    <tr>\n",
       "      <th>8</th>\n",
       "      <td>0.376974</td>\n",
       "      <td>0.358197</td>\n",
       "      <td>0.347029</td>\n",
       "      <td>0.338751</td>\n",
       "    </tr>\n",
       "    <tr>\n",
       "      <th>10</th>\n",
       "      <td>0.381966</td>\n",
       "      <td>0.365141</td>\n",
       "      <td>0.352933</td>\n",
       "      <td>0.345409</td>\n",
       "    </tr>\n",
       "    <tr>\n",
       "      <th>12</th>\n",
       "      <td>0.387555</td>\n",
       "      <td>0.371037</td>\n",
       "      <td>0.359328</td>\n",
       "      <td>0.351553</td>\n",
       "    </tr>\n",
       "    <tr>\n",
       "      <th>14</th>\n",
       "      <td>0.389133</td>\n",
       "      <td>0.373261</td>\n",
       "      <td>0.361937</td>\n",
       "      <td>0.354225</td>\n",
       "    </tr>\n",
       "    <tr>\n",
       "      <th>16</th>\n",
       "      <td>0.389198</td>\n",
       "      <td>0.376006</td>\n",
       "      <td>0.365108</td>\n",
       "      <td>0.356989</td>\n",
       "    </tr>\n",
       "  </tbody>\n",
       "</table>\n",
       "</div>"
      ],
      "text/plain": [
       "time_window        7         14        21        28\n",
       "num_topics                                         \n",
       "2            0.336722  0.317946  0.304851   0.29534\n",
       "4             0.35368  0.336283  0.324901  0.316536\n",
       "6            0.369016  0.348671  0.337348  0.329758\n",
       "8            0.376974  0.358197  0.347029  0.338751\n",
       "10           0.381966  0.365141  0.352933  0.345409\n",
       "12           0.387555  0.371037  0.359328  0.351553\n",
       "14           0.389133  0.373261  0.361937  0.354225\n",
       "16           0.389198  0.376006  0.365108  0.356989"
      ]
     },
     "execution_count": 10,
     "metadata": {},
     "output_type": "execute_result"
    },
    {
     "data": {
      "image/png": "[encoded data removed]",
      "text/plain": [
       "<Figure size 432x288 with 2 Axes>"
      ]
     },
     "metadata": {},
     "output_type": "display_data"
    }
   ],
   "source": [
    "version_number = '27_neg'\n",
    "\n",
    "grid = pickle.load(open(grid_dir + 'grid_V' + version_number, 'rb'))\n",
    "\n",
    "\n",
    "df_grid = pd.DataFrame(grid, columns =['time_window', 'num_topics', 'average_coherence'])\n",
    "df_grid = df_grid[1:]\n",
    "\n",
    "df_grid_26_neg = df_grid.pivot(\"num_topics\", \"time_window\", \"average_coherence\")\n",
    "ax = sns.heatmap(df_grid_26_neg.astype(float))\n",
    "#     vmax=0.47,         # Ensure same \n",
    "#     vmin=0.3)          # color scale\n",
    "ax.set_title('Average coherence scores of topic models \\nper number of topics and time window \\nfor negative tweets')\n",
    "ax.set_ylabel('num_topics')\n",
    "ax.set_xlabel('time_window (days)')\n",
    "ax.legend(title=\"Average coherence\", bbox_to_anchor=(1.02, 1.1), loc='upper left', borderaxespad=0, frameon=False)\n",
    "ax.invert_yaxis()\n",
    "df_grid_26_neg"
   ]
  },
  {
   "cell_type": "code",
   "execution_count": 8,
   "metadata": {},
   "outputs": [],
   "source": [
    "df_tweets_senti_19 = pickle.load(open(results_dir + 'set_results_V' + \"16\" + \"_19\", 'rb'))"
   ]
  },
  {
   "cell_type": "code",
   "execution_count": 9,
   "metadata": {},
   "outputs": [
    {
     "name": "stdout",
     "output_type": "stream",
     "text": [
      "168060\n"
     ]
    }
   ],
   "source": [
    "print(df_tweets_senti_19.shape[0])"
   ]
  },
  {
   "cell_type": "code",
   "execution_count": 10,
   "metadata": {},
   "outputs": [],
   "source": [
    "start_date = \"2019-06-01 00:00:01\"\n",
    "\n",
    "after_start_date = df_tweets_senti_19[\"date\"] >= start_date\n",
    "df_tweets_senti_19 = df_tweets_senti_19.loc[after_start_date]\n"
   ]
  },
  {
   "cell_type": "code",
   "execution_count": 28,
   "metadata": {},
   "outputs": [
    {
     "name": "stdout",
     "output_type": "stream",
     "text": [
      "166424\n"
     ]
    }
   ],
   "source": [
    "print(df_tweets_senti_19.shape[0])"
   ]
  }
 ],
 "metadata": {
  "kernelspec": {
   "display_name": "Python 3",
   "language": "python",
   "name": "python3"
  },
  "language_info": {
   "codemirror_mode": {
    "name": "ipython",
    "version": 3
   },
   "file_extension": ".py",
   "mimetype": "text/x-python",
   "name": "python",
   "nbconvert_exporter": "python",
   "pygments_lexer": "ipython3",
   "version": "3.6.5"
  }
 },
 "nbformat": 4,
 "nbformat_minor": 2
}
